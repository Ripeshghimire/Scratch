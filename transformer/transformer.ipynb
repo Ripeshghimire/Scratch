{
 "cells": [
  {
   "cell_type": "code",
   "execution_count": 1,
   "metadata": {},
   "outputs": [],
   "source": [
    "import torch \n",
    "import torch.nn as nn \n",
    "import math"
   ]
  },
  {
   "cell_type": "code",
   "execution_count": 2,
   "metadata": {},
   "outputs": [],
   "source": [
    "class InputEmbedding(nn.Module):\n",
    "    def __init__(self,d_model:int,vocab_size:int):\n",
    "        super().__init__()\n",
    "        self.d_model = d_model\n",
    "        self.vocab_size = vocab_size\n",
    "        self.embedding = nn.Embedding(vocab_size,d_model)\n",
    "    \n",
    "    def forward(self,x):\n",
    "        self.embedding(x) * math.sqrt(self.d_model)"
   ]
  },
  {
   "cell_type": "code",
   "execution_count": null,
   "metadata": {},
   "outputs": [],
   "source": [
    "'''\n",
    "Positional encoding \n",
    "I have a polite cat \n",
    "cat i have a polite \n",
    "\n",
    "\n",
    "e1,e2,e3,e4,e5\n",
    "PE1,PE2,PE3,PE4,PE5\n",
    "we add Input embedding + Positional encoding\n",
    "'''"
   ]
  },
  {
   "cell_type": "code",
   "execution_count": 1,
   "metadata": {},
   "outputs": [
    {
     "data": {
      "text/plain": [
       "'\\nThe Lost Sequences: A Transformer\\'s Tale\\nDay 1: The Time-Traveling Merchant\\nThe Memory Merchant\\'s Dilemma\\nIn the digital city of Neural Heights, a peculiar merchant named Ada sells sequences of numbers. However, she has a unique problem - her sequences get corrupted when they grow too long, similar to how RNNs struggle with long-term dependencies.\\nToday, she received a mysterious sequence where each number represents a trade value, but she can only remember recent trades clearly. The sequence keeps changing based on a pattern, but traditional memory (like RNNs) fails to capture the full relationship.\\nYour task is to help Ada by:\\nProcessing a sequence of trade values.\\nFor each trade value, predicting the next value using only the previous 5 values.\\nCalculating how much information is lost compared to using the entire sequence.\\nInput Format:\\nFirst line: N (length of sequence)\\nSecond line: Space-separated integers representing trade values.\\nEach value depends on a pattern involving values from arbitrary positions before it.\\nInput:\\n10\\n1 2 4 8 16 32 64 128 256 512\\n\\nChallenge: Calculate the total \"information loss\" - the sum of absolute differences between:\\nPredictions made using only the previous 5 values (like an RNN).\\nPredictions made using the entire sequence (like a Transformer would).\\nAnswer is the output for the input provided.\\n\\n\\n'"
      ]
     },
     "execution_count": 1,
     "metadata": {},
     "output_type": "execute_result"
    }
   ],
   "source": [
    "'''\n",
    "The Lost Sequences: A Transformer's Tale\n",
    "Day 1: The Time-Traveling Merchant\n",
    "The Memory Merchant's Dilemma\n",
    "In the digital city of Neural Heights, a peculiar merchant named Ada sells sequences of numbers. However, she has a unique problem - her sequences get corrupted when they grow too long, similar to how RNNs struggle with long-term dependencies.\n",
    "Today, she received a mysterious sequence where each number represents a trade value, but she can only remember recent trades clearly. The sequence keeps changing based on a pattern, but traditional memory (like RNNs) fails to capture the full relationship.\n",
    "Your task is to help Ada by:\n",
    "Processing a sequence of trade values.\n",
    "For each trade value, predicting the next value using only the previous 5 values.\n",
    "Calculating how much information is lost compared to using the entire sequence.\n",
    "Input Format:\n",
    "First line: N (length of sequence)\n",
    "Second line: Space-separated integers representing trade values.\n",
    "Each value depends on a pattern involving values from arbitrary positions before it.\n",
    "Input:\n",
    "10\n",
    "1 2 4 8 16 32 64 128 256 512\n",
    "\n",
    "Challenge: Calculate the total \"information loss\" - the sum of absolute differences between:\n",
    "Predictions made using only the previous 5 values (like an RNN).\n",
    "Predictions made using the entire sequence (like a Transformer would).\n",
    "Answer is the output for the input provided.\n",
    "\n",
    "\n",
    "'''"
   ]
  },
  {
   "cell_type": "code",
   "execution_count": null,
   "metadata": {},
   "outputs": [],
   "source": [
    "def process_sequence():\n",
    "    trade_values = len  "
   ]
  },
  {
   "cell_type": "code",
   "execution_count": null,
   "metadata": {},
   "outputs": [],
   "source": []
  },
  {
   "cell_type": "code",
   "execution_count": null,
   "metadata": {},
   "outputs": [],
   "source": []
  },
  {
   "cell_type": "code",
   "execution_count": null,
   "metadata": {},
   "outputs": [],
   "source": []
  },
  {
   "cell_type": "code",
   "execution_count": 7,
   "metadata": {},
   "outputs": [
    {
     "name": "stdout",
     "output_type": "stream",
     "text": [
      "Total Information Loss: 379.75\n"
     ]
    }
   ],
   "source": [
    "def predict_with_last_5(sequence, n):\n",
    "    \"\"\"Predict the next value based on the last 5 values of the sequence.\"\"\"\n",
    "    if len(sequence) < 5:\n",
    "        return sequence[-1]  # Default to repeating the last value if insufficient data.\n",
    "    # Simplistic prediction: Estimate using linear extrapolation of last 5 values.\n",
    "    diff = [sequence[-i] - sequence[-i - 1] for i in range(1, 5)]\n",
    "    avg_diff = sum(diff) / len(diff)\n",
    "    return sequence[-1] + avg_diff\n",
    "\n",
    "def predict_with_full_sequence(index):\n",
    "    \"\"\"Predict the next value based on the full sequence pattern.\"\"\"\n",
    "    return 2 ** index\n",
    "\n",
    "def calculate_information_loss(sequence):\n",
    "    n = len(sequence)\n",
    "    information_loss = 0\n",
    "\n",
    "    for i in range(5, n):\n",
    "        actual_value = sequence[i]\n",
    "        pred_last_5 = predict_with_last_5(sequence[:i], i)\n",
    "        pred_full = predict_with_full_sequence(i)\n",
    "        information_loss += abs(pred_full - pred_last_5)\n",
    "\n",
    "    return information_loss\n",
    "\n",
    "# Input\n",
    "sequence = [1, 2, 4, 8, 16, 32, 64, 128, 256, 512]\n",
    "information_loss = calculate_information_loss(sequence)\n",
    "print(\"Total Information Loss:\", information_loss)\n"
   ]
  },
  {
   "cell_type": "code",
   "execution_count": null,
   "metadata": {},
   "outputs": [],
   "source": []
  }
 ],
 "metadata": {
  "kernelspec": {
   "display_name": "env",
   "language": "python",
   "name": "python3"
  },
  "language_info": {
   "codemirror_mode": {
    "name": "ipython",
    "version": 3
   },
   "file_extension": ".py",
   "mimetype": "text/x-python",
   "name": "python",
   "nbconvert_exporter": "python",
   "pygments_lexer": "ipython3",
   "version": "3.11.5"
  }
 },
 "nbformat": 4,
 "nbformat_minor": 2
}
