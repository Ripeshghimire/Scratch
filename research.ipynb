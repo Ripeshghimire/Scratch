{
 "cells": [
  {
   "cell_type": "code",
   "id": "initial_id",
   "metadata": {
    "collapsed": true,
    "ExecuteTime": {
     "end_time": "2024-11-26T10:11:55.130867Z",
     "start_time": "2024-11-26T10:11:54.249078Z"
    }
   },
   "source": "import torch",
   "outputs": [],
   "execution_count": 1
  },
  {
   "metadata": {
    "ExecuteTime": {
     "end_time": "2024-11-26T10:15:10.174164Z",
     "start_time": "2024-11-26T10:15:10.164824Z"
    }
   },
   "cell_type": "code",
   "source": [
    "query = torch.tensor(\n",
    "    [[0.2,0.19,0.9],\n",
    "     [0.55,0.87,0.44],\n",
    "     [0.69,0.88,0.12],\n",
    "     [0.87,0.34,0.76],\n",
    "     [0.1,0.2,0.3],\n",
    "     [0.8,0.9,0.65]\n",
    "    ]\n",
    ")\n",
    "print(query)"
   ],
   "id": "b3937884b2167ef6",
   "outputs": [
    {
     "name": "stdout",
     "output_type": "stream",
     "text": [
      "tensor([[0.2000, 0.1900, 0.9000],\n",
      "        [0.5500, 0.8700, 0.4400],\n",
      "        [0.6900, 0.8800, 0.1200],\n",
      "        [0.8700, 0.3400, 0.7600],\n",
      "        [0.1000, 0.2000, 0.3000],\n",
      "        [0.8000, 0.9000, 0.6500]])\n"
     ]
    }
   ],
   "execution_count": 5
  },
  {
   "metadata": {},
   "cell_type": "code",
   "outputs": [],
   "execution_count": null,
   "source": "",
   "id": "1c6674a8598952d5"
  }
 ],
 "metadata": {
  "kernelspec": {
   "display_name": "Python 3",
   "language": "python",
   "name": "python3"
  },
  "language_info": {
   "codemirror_mode": {
    "name": "ipython",
    "version": 2
   },
   "file_extension": ".py",
   "mimetype": "text/x-python",
   "name": "python",
   "nbconvert_exporter": "python",
   "pygments_lexer": "ipython2",
   "version": "2.7.6"
  }
 },
 "nbformat": 4,
 "nbformat_minor": 5
}
