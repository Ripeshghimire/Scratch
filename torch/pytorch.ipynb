{
 "cells": [
  {
   "cell_type": "code",
   "execution_count": 1,
   "metadata": {},
   "outputs": [],
   "source": [
    "import torch"
   ]
  },
  {
   "cell_type": "code",
   "execution_count": 2,
   "metadata": {},
   "outputs": [
    {
     "name": "stdout",
     "output_type": "stream",
     "text": [
      "True\n"
     ]
    }
   ],
   "source": [
    "print(torch.backends.mps.is_available())"
   ]
  },
  {
   "cell_type": "markdown",
   "metadata": {},
   "source": [
    "Three components of PyTorch\n",
    "\n",
    "1.tensor library \n",
    "\n",
    "2.Automatic differentiation engine \n",
    "\n",
    "3.Deep Learning Library"
   ]
  },
  {
   "cell_type": "code",
   "execution_count": 10,
   "metadata": {},
   "outputs": [],
   "source": [
    "'''\n",
    "what is tensors in pyTorch?\n",
    "Tensors represent a mathematical concept that generalizes vectors and matrices to potentially higher dimension\n",
    "'''\n",
    "tensor_0d = torch.tensor(1)\n",
    "tensor_1d = torch.tensor([1,2,3])\n",
    "tensor_2d = torch.tensor([[1,2,3],[3,4,3]])\n",
    "tensor_3d = torch.tensor([[[1, 2], [3, 4]], [[5, 6], [7, 8]]]) #D"
   ]
  },
  {
   "cell_type": "code",
   "execution_count": 27,
   "metadata": {},
   "outputs": [
    {
     "data": {
      "text/plain": [
       "tensor([1., 2., 3.])"
      ]
     },
     "execution_count": 27,
     "metadata": {},
     "output_type": "execute_result"
    }
   ],
   "source": [
    "tensor_1d.to(torch.float32)"
   ]
  },
  {
   "cell_type": "code",
   "execution_count": null,
   "metadata": {},
   "outputs": [],
   "source": []
  },
  {
   "cell_type": "code",
   "execution_count": null,
   "metadata": {},
   "outputs": [],
   "source": []
  },
  {
   "cell_type": "code",
   "execution_count": null,
   "metadata": {},
   "outputs": [],
   "source": []
  },
  {
   "cell_type": "code",
   "execution_count": null,
   "metadata": {},
   "outputs": [],
   "source": []
  },
  {
   "cell_type": "code",
   "execution_count": null,
   "metadata": {},
   "outputs": [],
   "source": [
    "# import torch\n",
    "# import numpy as np\n",
    "# import matplotlib.pyplot as plt\n",
    "# from mpl_toolkits.mplot3d import Axes3D\n",
    "\n",
    "# # Create the tensor\n",
    "# tensor_3d = torch.tensor([[[1, 2], [3, 4]], [[5, 6], [7, 8]]])\n",
    "\n",
    "# # Get the dimensions of the tensor\n",
    "# x_dim, y_dim, z_dim = tensor_3d.shape\n",
    "\n",
    "# # Generate the coordinates\n",
    "# x, y, z = np.meshgrid(range(x_dim), range(y_dim), range(z_dim), indexing=\"ij\")\n",
    "\n",
    "# # Flatten the coordinates and values for plotting\n",
    "# x = x.flatten()\n",
    "# y = y.flatten()\n",
    "# z = z.flatten()\n",
    "# values = tensor_3d.numpy().flatten()\n",
    "\n",
    "# # Plot the points in 3D\n",
    "# # fig = plt.figure(figsize=(8, 6))\n",
    "# ax = fig.add_subplot(111, projection=\"3d\")\n",
    "\n",
    "# # Use a scatter plot\n",
    "# sc = ax.scatter(x, y, z, c=values, cmap=\"viridis\", s=100)\n",
    "\n",
    "# # Add color bar to represent values\n",
    "# cb = plt.colorbar(sc, ax=ax, pad=0.1)\n",
    "# cb.set_label(\"Tensor Values\")\n",
    "\n",
    "# # Set labels\n",
    "# ax.set_xlabel(\"X\")\n",
    "# ax.set_ylabel(\"Y\")\n",
    "# ax.set_zlabel(\"Z\")\n",
    "# plt.title(\"3D Visualization of Tensor\")\n",
    "# plt.show()"
   ]
  },
  {
   "cell_type": "code",
   "execution_count": null,
   "metadata": {},
   "outputs": [],
   "source": []
  }
 ],
 "metadata": {
  "kernelspec": {
   "display_name": "env",
   "language": "python",
   "name": "python3"
  },
  "language_info": {
   "codemirror_mode": {
    "name": "ipython",
    "version": 3
   },
   "file_extension": ".py",
   "mimetype": "text/x-python",
   "name": "python",
   "nbconvert_exporter": "python",
   "pygments_lexer": "ipython3",
   "version": "3.11.5"
  }
 },
 "nbformat": 4,
 "nbformat_minor": 2
}
