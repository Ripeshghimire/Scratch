{
 "cells": [
  {
   "cell_type": "code",
   "execution_count": 1,
   "metadata": {},
   "outputs": [],
   "source": [
    "import torch \n",
    "import torch.nn as nn "
   ]
  },
  {
   "cell_type": "code",
   "execution_count": 2,
   "metadata": {},
   "outputs": [
    {
     "data": {
      "text/plain": [
       "'\\n1.self attention is a mechanism in transformers that is used to compute more efficient input representations by allowing each position in a sequence to interact with and weigh\\nthe importance of all other positions within the same sequence \\n2. The \"self\" in self attention ?\\n    >ability to compute attention weights by relating different positions within a single input sequence.\\n    >assesses and learns the relationship and dependencies between various parts of the inputs itself such as word in a senctence or pixels in an image \\nwhat is the main goal of self-attention ?\\n    >compute a context vector for each input element, that combines information from all other input elements. \\n    >importance or contribution of each input element for computing is determined by attention weights\\n    >when computing attention weights are calculated with respect to input element, and all other inputs. \\ncontext vector: \\ncontext vector is an embedding that contains information about all other inputs elements. It can be interpreted as an enriched embedding vector\\nwhat is the use of context vector? \\n    > to create enriched representation of each elements in an input sequence like a sentence by incorporation information from all other elements in the sequence\\n    >helps to understand realtionsship and relevance of words in a sentecne to each other. \\n    >Later we will add trainable weights that help an LLM learng to consturct these context vectors so that they are relevant for the LLM to generate the next token\\n'"
      ]
     },
     "execution_count": 2,
     "metadata": {},
     "output_type": "execute_result"
    }
   ],
   "source": [
    "'''\n",
    "1.self attention is a mechanism in transformers that is used to compute more efficient input representations by allowing each position in a sequence to interact with and weigh\n",
    "the importance of all other positions within the same sequence \n",
    "2. The \"self\" in self attention ?\n",
    "    >ability to compute attention weights by relating different positions within a single input sequence.\n",
    "    >assesses and learns the relationship and dependencies between various parts of the inputs itself such as word in a senctence or pixels in an image \n",
    "what is the main goal of self-attention ?\n",
    "    >compute a context vector for each input element, that combines information from all other input elements. \n",
    "    >importance or contribution of each input element for computing is determined by attention weights\n",
    "    >when computing attention weights are calculated with respect to input element, and all other inputs. \n",
    "context vector: \n",
    "context vector is an embedding that contains information about all other inputs elements. It can be interpreted as an enriched embedding vector\n",
    "what is the use of context vector? \n",
    "    > to create enriched representation of each elements in an input sequence like a sentence by incorporation information from all other elements in the sequence\n",
    "    >helps to understand realtionsship and relevance of words in a sentecne to each other. \n",
    "    >Later we will add trainable weights that help an LLM learng to consturct these context vectors so that they are relevant for the LLM to generate the next token\n",
    "'''"
   ]
  },
  {
   "cell_type": "code",
   "execution_count": null,
   "metadata": {},
   "outputs": [],
   "source": [
    "'''\n",
    "Attention mechanism the text generating decoder part of the network can acesss all input token selectively this mean that some input tokens are more important than others for generating \n",
    "a given output token \n",
    "This means that some input toekns are more importaant than others for genrating a given output token .\n",
    "\n",
    "self in self attention refers to the mechanism ability to compute attention weights by relating different positions within a single input sequence . \n",
    "Learns the relationship amd dependencies between various parts of the input itself, such as sequence to sequence model where the attention might be between an input sequence and \n",
    "output sequence\n",
    "'''"
   ]
  },
  {
   "cell_type": "code",
   "execution_count": 4,
   "metadata": {},
   "outputs": [],
   "source": [
    "import torch \n",
    "inputs = torch.tensor(\n",
    "  [[0.43, 0.15, 0.89], # Your     (x^1)\n",
    "   [0.55, 0.87, 0.66], # journey  (x^2)\n",
    "   [0.57, 0.85, 0.64], # starts   (x^3)\n",
    "   [0.22, 0.58, 0.33], # with     (x^4)\n",
    "   [0.77, 0.25, 0.10], # one      (x^5)\n",
    "   [0.05, 0.80, 0.55]] # step     (x^6)\n",
    ")\n"
   ]
  },
  {
   "cell_type": "code",
   "execution_count": 3,
   "metadata": {},
   "outputs": [],
   "source": [
    "import torch \n",
    "inputs = torch.tensor(\n",
    "  [[0.43, 0.15, 0.89], # Your     (x^1)\n",
    "   [0.55, 0.87, 0.66], # journey  (x^2)\n",
    "   [0.57, 0.85, 0.64], # starts   (x^3)\n",
    "   [0.22, 0.58, 0.33], # with     (x^4)\n",
    "   [0.77, 0.25, 0.10], # one      (x^5)\n",
    "   [0.05, 0.80, 0.55]] # step     (x^6)\n",
    ")\n"
   ]
  },
  {
   "cell_type": "code",
   "execution_count": 7,
   "metadata": {},
   "outputs": [
    {
     "name": "stdout",
     "output_type": "stream",
     "text": [
      "tensor([0.9544, 1.4950, 1.4754, 0.8434, 0.7070, 1.0865])\n"
     ]
    }
   ],
   "source": [
    "query = inputs[1] # query vector using the inputs first index \n",
    "attention = torch.empty(inputs.shape[0]) #initializing an empty torch object to store the attention weights\n",
    "for i,x_i in enumerate(inputs):\n",
    "    attention[i] = torch.dot(x_i,query) #calculating dot product to calculate attention weights\n",
    "print(attention)"
   ]
  },
  {
   "cell_type": "code",
   "execution_count": 9,
   "metadata": {},
   "outputs": [
    {
     "name": "stdout",
     "output_type": "stream",
     "text": [
      "tensor(0.9544)\n"
     ]
    }
   ],
   "source": [
    "# a dot product is essentially just a concise way of multiplying two vectors element-wise and then summing the products\n",
    "res = 0\n",
    "for idx,element in enumerate(inputs[0]):\n",
    "    res += inputs[0][idx] * query[idx]\n",
    "print(res)"
   ]
  },
  {
   "cell_type": "markdown",
   "metadata": {},
   "source": [
    "Normalizing the vector "
   ]
  },
  {
   "cell_type": "code",
   "execution_count": 10,
   "metadata": {},
   "outputs": [
    {
     "name": "stdout",
     "output_type": "stream",
     "text": [
      "tensor([0.1455, 0.2278, 0.2249, 0.1285, 0.1077, 0.1656])\n",
      "sum tensor(1.0000)\n"
     ]
    }
   ],
   "source": [
    "attention_weights_tmp = attention / attention.sum()\n",
    "print(attention_weights_tmp)\n",
    "print(\"sum\",attention_weights_tmp.sum())"
   ]
  },
  {
   "cell_type": "code",
   "execution_count": 11,
   "metadata": {},
   "outputs": [
    {
     "name": "stdout",
     "output_type": "stream",
     "text": [
      "tensor([0.1385, 0.2379, 0.2333, 0.1240, 0.1082, 0.1581])\n",
      "sum tensor(1.)\n"
     ]
    }
   ],
   "source": [
    "attention_weights_2 = torch.softmax(attention,dim=0)\n",
    "print(attention_weights_2)\n",
    "print(\"sum\",attention_weights_2.sum())"
   ]
  },
  {
   "cell_type": "code",
   "execution_count": 12,
   "metadata": {},
   "outputs": [],
   "source": [
    "#now that we computed the normalized attention weights we are ready for the final step \n",
    "#calculating the context vector by multiplying the embedded input tokens, with the correspoding attention weights and then summing the resulting vectors \n"
   ]
  },
  {
   "cell_type": "code",
   "execution_count": 14,
   "metadata": {},
   "outputs": [
    {
     "name": "stdout",
     "output_type": "stream",
     "text": [
      "tensor([0.4419, 0.6515, 0.5683])\n"
     ]
    }
   ],
   "source": [
    "query = inputs[1]\n",
    "context_vector = torch.zeros(query.shape)\n",
    "for idx,x_i in enumerate(inputs):\n",
    "    context_vector += x_i * attention_weights_2[idx]\n",
    "print(context_vector)\n"
   ]
  },
  {
   "cell_type": "code",
   "execution_count": null,
   "metadata": {},
   "outputs": [],
   "source": []
  }
 ],
 "metadata": {
  "kernelspec": {
   "display_name": "env",
   "language": "python",
   "name": "python3"
  },
  "language_info": {
   "codemirror_mode": {
    "name": "ipython",
    "version": 3
   },
   "file_extension": ".py",
   "mimetype": "text/x-python",
   "name": "python",
   "nbconvert_exporter": "python",
   "pygments_lexer": "ipython3",
   "version": "3.11.5"
  }
 },
 "nbformat": 4,
 "nbformat_minor": 2
}
